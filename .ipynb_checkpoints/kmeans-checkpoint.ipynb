{
 "cells": [
  {
   "cell_type": "code",
   "execution_count": 1,
   "metadata": {
    "collapsed": true
   },
   "outputs": [],
   "source": [
    "import numpy as np\n",
    "from matplotlib import pyplot as plt\n",
    "from mpl_toolkits.mplot3d import Axes3D\n",
    "import matplotlib.image as mpimg\n",
    "'''\n",
    "IMPORTANT: Code gotten from Tute 5 of Elements of Data Processing workshop\n",
    "'''\n",
    "class KMeans:\n",
    "    \"\"\"performs k-means clustering\"\"\"\n",
    "\n",
    "    def __init__(self, k, means=None, display=False):\n",
    "        self.k = k          # number of clusters\n",
    "        self.means = means   # means of clusters\n",
    "        self.display = display\n",
    "\n",
    "    def classify(self, record):\n",
    "        \"\"\"return the index of the cluster closest to the input\"\"\"\n",
    "        return min(range(self.k),\n",
    "                   key=lambda i: np.linalg.norm(record - self.means[i]))\n",
    "\n",
    "    def train(self, inputs):\n",
    "        if self.means == None:\n",
    "            self.means = inputs[np.random.choice(np.shape(inputs)[0], self.k)]\n",
    "\n",
    "        self.assignments = None\n",
    "\n",
    "        if self.display:\n",
    "            step = 0\n",
    "            print(\"Step\", step)\n",
    "            print(\"Data points:\", inputs)\n",
    "            print(\"Assignments:\", self.assignments)\n",
    "            print(\"Centroids:\", self.means, \"\\n\")\n",
    "            \n",
    "        while True:\n",
    "            # Find new assignments\n",
    "            new_assignments = list(map(self.classify, inputs))\n",
    "\n",
    "            # If no assignments have changed, we're done.\n",
    "            if self.assignments == new_assignments:\n",
    "                if self.display:\n",
    "                    step = step + 1\n",
    "                    print(\"Step\", step)\n",
    "                    print(\"Data points:\", inputs)\n",
    "                    print(\"Assignments:\", self.assignments)\n",
    "                    print(\"Centroids:\", self.means, \"\\n\")\n",
    "                return\n",
    "\n",
    "            # Otherwise keep the new assignments,\n",
    "            self.assignments = new_assignments\n",
    "\n",
    "            for i in range(self.k):\n",
    "                i_points = [p for p, a in zip(inputs, self.assignments) if a == i]\n",
    "                # avoid divide-by-zero if i_points is empty\n",
    "                if i_points:\n",
    "                    self.means[i] = np.mean(i_points, axis=0)\n",
    "            \n",
    "            if self.display:\n",
    "                step = step + 1\n",
    "                print(\"Step\", step)\n",
    "                print(\"Data points:\", inputs)\n",
    "                print(\"Assignments:\", self.assignments)\n",
    "                print(\"Centroids:\", self.means, \"\\n\")"
   ]
  },
  {
   "cell_type": "code",
   "execution_count": 2,
   "metadata": {
    "collapsed": false
   },
   "outputs": [],
   "source": [
    "input2d = np.genfromtxt('merge_output.csv', delimiter=',')\n",
    "\n",
    "clusterer = KMeans(3)\n",
    "clusterer.train(input2d)\n",
    "centroids = np.array(clusterer.means)\n",
    "assignments = list(map(clusterer.classify, input2d))\n",
    "\n",
    "# generate string color list from cluster assignments\n",
    "colors = ['red','green','blue']\n",
    "c_labels = [colors[grp] for grp in assignments]\n",
    "\n",
    "fig = plt.figure(1)\n",
    "ax = fig.add_subplot(1,1,1)\n",
    "ax.scatter(input2d[:,0], input2d[:,1], c=c_labels, s=55)\n",
    "ax.scatter(centroids[:,0], centroids[:,1], marker=\"*\", s=200, color='yellow')\n",
    "plt.xlabel(\"Offence rate\", color= (.847, .333, 0), fontsize = 25)\n",
    "plt.ylabel(\"Number of Gvt schools\", color= (.847, .333, 0), fontsize = 25)\n",
    "plt.grid(True)\n",
    "plt.show()"
   ]
  },
  {
   "cell_type": "code",
   "execution_count": null,
   "metadata": {
    "collapsed": true
   },
   "outputs": [],
   "source": []
  }
 ],
 "metadata": {
  "kernelspec": {
   "display_name": "Python 3",
   "language": "python",
   "name": "python3"
  },
  "language_info": {
   "codemirror_mode": {
    "name": "ipython",
    "version": 3
   },
   "file_extension": ".py",
   "mimetype": "text/x-python",
   "name": "python",
   "nbconvert_exporter": "python",
   "pygments_lexer": "ipython3",
   "version": "3.5.1"
  }
 },
 "nbformat": 4,
 "nbformat_minor": 0
}
