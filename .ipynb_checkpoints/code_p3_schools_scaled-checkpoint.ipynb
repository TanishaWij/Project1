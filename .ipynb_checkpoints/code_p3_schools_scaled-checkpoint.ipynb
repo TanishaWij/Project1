{
 "cells": [
  {
   "cell_type": "code",
   "execution_count": null,
   "metadata": {
    "collapsed": true
   },
   "outputs": [],
   "source": [
    "import pandas as pd\n",
    "import numpy as np\n",
    "import matplotlib.pyplot as plt\n",
    "\n",
    "\n",
    "def num_schools_by_lga(edu):\n",
    "    ''' \n",
    "    Calculates the unique LGAs and for each, finds the corresponding\n",
    "    sum of the number of schools \n",
    "    '''\n",
    "    lga =[]\n",
    "    other = []\n",
    "    government = [] \n",
    "    \n",
    "    all_lgas = edu.Local_Government_Area.value_counts()  \n",
    "    for key,value in all_lgas.iteritems():\n",
    "        lga.append(key)\n",
    "        print(key)\n",
    "        #call function and append each returning value to a list\n",
    "        num_gvt = num_govermentschools(edu,key)\n",
    "        government.append(num_gvt)\n",
    "        print(\"total: \", value)\n",
    "        print(\"gvt: \", num_gvt)\n",
    "        #simple subtraction to find schools that are not 'government'\n",
    "        other_schools = value - num_gvt\n",
    "        other.append(other_schools)\n",
    "        print(\"other: \", other_schools)\n",
    "        print(\"\\n\")\n",
    "        \n",
    "    stacked_barchart_total_edu(lga, other, government)"
   ]
  }
 ],
 "metadata": {
  "kernelspec": {
   "display_name": "Python 3",
   "language": "python",
   "name": "python3"
  },
  "language_info": {
   "codemirror_mode": {
    "name": "ipython",
    "version": 3
   },
   "file_extension": ".py",
   "mimetype": "text/x-python",
   "name": "python",
   "nbconvert_exporter": "python",
   "pygments_lexer": "ipython3",
   "version": "3.5.1"
  }
 },
 "nbformat": 4,
 "nbformat_minor": 0
}
