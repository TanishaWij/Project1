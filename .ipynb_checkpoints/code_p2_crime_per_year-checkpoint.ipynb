{
 "cells": [
  {
   "cell_type": "code",
   "execution_count": 1,
   "metadata": {
    "collapsed": false
   },
   "outputs": [
    {
     "name": "stdout",
     "output_type": "stream",
     "text": [
      "Total number of effences for the year 2011 is:  385969\n",
      "scaled number pf effences for the year 2011 is:  6969.7\n",
      "Total number of effences for the year 2012 is:  423275\n",
      "scaled number pf effences for the year 2012 is:  7514.8\n",
      "Total number of effences for the year 2013 is:  437493\n",
      "scaled number pf effences for the year 2013 is:  7622.7\n",
      "Total number of effences for the year 2014 is:  459370\n",
      "scaled number pf effences for the year 2014 is:  7863.7\n",
      "Total number of effences for the year 2015 is:  496685\n",
      "scaled number pf effences for the year 2015 is:  8346.1\n"
     ]
    },
    {
     "ename": "NameError",
     "evalue": "name 'p' is not defined",
     "output_type": "error",
     "traceback": [
      "\u001b[0;31m---------------------------------------------------------------------------\u001b[0m",
      "\u001b[0;31mNameError\u001b[0m                                 Traceback (most recent call last)",
      "\u001b[0;32m<ipython-input-1-70d8b9d51265>\u001b[0m in \u001b[0;36m<module>\u001b[0;34m()\u001b[0m\n\u001b[1;32m     83\u001b[0m \u001b[0;34m\u001b[0m\u001b[0m\n\u001b[1;32m     84\u001b[0m \u001b[0;32mif\u001b[0m \u001b[0m__name__\u001b[0m \u001b[0;34m==\u001b[0m \u001b[0;34m\"__main__\"\u001b[0m\u001b[0;34m:\u001b[0m\u001b[0;34m\u001b[0m\u001b[0m\n\u001b[0;32m---> 85\u001b[0;31m     \u001b[0mmain\u001b[0m\u001b[0;34m(\u001b[0m\u001b[0;34m)\u001b[0m\u001b[0;34m\u001b[0m\u001b[0m\n\u001b[0m",
      "\u001b[0;32m<ipython-input-1-70d8b9d51265>\u001b[0m in \u001b[0;36mmain\u001b[0;34m()\u001b[0m\n\u001b[1;32m     80\u001b[0m     \u001b[0mcrime\u001b[0m \u001b[0;34m=\u001b[0m \u001b[0mpd\u001b[0m\u001b[0;34m.\u001b[0m\u001b[0mread_csv\u001b[0m\u001b[0;34m(\u001b[0m\u001b[0;34m\"crimebylocationdatatable.csv\"\u001b[0m\u001b[0;34m)\u001b[0m\u001b[0;34m\u001b[0m\u001b[0m\n\u001b[1;32m     81\u001b[0m \u001b[0;34m\u001b[0m\u001b[0m\n\u001b[0;32m---> 82\u001b[0;31m     \u001b[0mbarchart_crime_per_year\u001b[0m\u001b[0;34m(\u001b[0m\u001b[0mcrime\u001b[0m\u001b[0;34m)\u001b[0m\u001b[0;34m\u001b[0m\u001b[0m\n\u001b[0m\u001b[1;32m     83\u001b[0m \u001b[0;34m\u001b[0m\u001b[0m\n\u001b[1;32m     84\u001b[0m \u001b[0;32mif\u001b[0m \u001b[0m__name__\u001b[0m \u001b[0;34m==\u001b[0m \u001b[0;34m\"__main__\"\u001b[0m\u001b[0;34m:\u001b[0m\u001b[0;34m\u001b[0m\u001b[0m\n",
      "\u001b[0;32m<ipython-input-1-70d8b9d51265>\u001b[0m in \u001b[0;36mbarchart_crime_per_year\u001b[0;34m(crime)\u001b[0m\n\u001b[1;32m     61\u001b[0m     \u001b[0;32mfor\u001b[0m \u001b[0mrow\u001b[0m \u001b[0;32min\u001b[0m \u001b[0mrange\u001b[0m\u001b[0;34m(\u001b[0m\u001b[0;36m6\u001b[0m\u001b[0;34m)\u001b[0m\u001b[0;34m:\u001b[0m\u001b[0;34m\u001b[0m\u001b[0m\n\u001b[1;32m     62\u001b[0m         \u001b[0mplt\u001b[0m\u001b[0;34m.\u001b[0m\u001b[0mbar\u001b[0m\u001b[0;34m(\u001b[0m\u001b[0mindex\u001b[0m\u001b[0;34m,\u001b[0m \u001b[0mdata\u001b[0m\u001b[0;34m[\u001b[0m\u001b[0mrow\u001b[0m\u001b[0;34m]\u001b[0m\u001b[0;34m,\u001b[0m \u001b[0mwidth\u001b[0m\u001b[0;34m,\u001b[0m \u001b[0mbottom\u001b[0m \u001b[0;34m=\u001b[0m \u001b[0my_offset\u001b[0m\u001b[0;34m,\u001b[0m \u001b[0mcolor\u001b[0m\u001b[0;34m=\u001b[0m\u001b[0mcolors\u001b[0m\u001b[0;34m[\u001b[0m\u001b[0mrow\u001b[0m\u001b[0;34m]\u001b[0m\u001b[0;34m,\u001b[0m \u001b[0medgecolor\u001b[0m\u001b[0;34m=\u001b[0m\u001b[0mcolors\u001b[0m\u001b[0;34m[\u001b[0m\u001b[0mrow\u001b[0m\u001b[0;34m]\u001b[0m\u001b[0;34m,\u001b[0m \u001b[0mlabel\u001b[0m\u001b[0;34m=\u001b[0m \u001b[0mlegends\u001b[0m\u001b[0;34m[\u001b[0m\u001b[0mrow\u001b[0m\u001b[0;34m]\u001b[0m\u001b[0;34m)\u001b[0m\u001b[0;34m\u001b[0m\u001b[0m\n\u001b[0;32m---> 63\u001b[0;31m         \u001b[0mplt\u001b[0m\u001b[0;34m.\u001b[0m\u001b[0mlegend\u001b[0m\u001b[0;34m(\u001b[0m\u001b[0mp\u001b[0m\u001b[0;34m[\u001b[0m\u001b[0;36m0\u001b[0m\u001b[0;34m]\u001b[0m\u001b[0;34m,\u001b[0m \u001b[0mlegends\u001b[0m\u001b[0;34m[\u001b[0m\u001b[0mrow\u001b[0m\u001b[0;34m]\u001b[0m\u001b[0;34m)\u001b[0m\u001b[0;34m\u001b[0m\u001b[0m\n\u001b[0m\u001b[1;32m     64\u001b[0m         \u001b[0my_offset\u001b[0m \u001b[0;34m=\u001b[0m \u001b[0my_offset\u001b[0m \u001b[0;34m+\u001b[0m \u001b[0mdata\u001b[0m\u001b[0;34m[\u001b[0m\u001b[0mrow\u001b[0m\u001b[0;34m]\u001b[0m\u001b[0;34m\u001b[0m\u001b[0m\n\u001b[1;32m     65\u001b[0m \u001b[0;34m\u001b[0m\u001b[0m\n",
      "\u001b[0;31mNameError\u001b[0m: name 'p' is not defined"
     ]
    }
   ],
   "source": [
    "import pandas as pd\n",
    "import numpy as np\n",
    "import matplotlib.pyplot as plt\n",
    "\n",
    "def erp_per_year(crime, year):\n",
    "    erps = []\n",
    "    erp_column = (crime.loc[(crime[\"reference_period\"] == year), [\"Victorian_ERP\"]])\n",
    "    erps = erp_column.values \n",
    "    return erps[0][0]\n",
    "         \n",
    "def crime_per_year(crime, year):\n",
    "    sum_crime = (crime.loc[(crime[\"reference_period\"] == year), [\"Offence_Count\"]])\n",
    "    summ = sum_crime.sum()\n",
    "    return (summ[-1])\n",
    "\n",
    "def crime_by_division(crime, year, division, erp):\n",
    "    sum_crime = (crime.loc[(crime[\"reference_period\"] == year) &\\\n",
    "                (crime[\"CSA_Offence_Division\"]==division), [\"Offence_Count\"]])\n",
    "    summ = sum_crime.sum()\n",
    "    per_100000 = round((summ[-1])/erp*100000)\n",
    "    return (per_100000)\n",
    "\n",
    "def barchart_crime_per_year(crime):\n",
    "    years = [2011, 2012, 2013, 2014,2015]\n",
    "    crime_count = []\n",
    "    scaled_crime = []\n",
    "    A, B, C, D, E, F = [], [], [], [], [], []\n",
    "    data =[]\n",
    "    \n",
    "    for year in years:\n",
    "        total_crime = crime_per_year(crime, year)\n",
    "        print (\"Total number of effences for the year\", year, \"is: \", total_crime)\n",
    "        crime_count.append(total_crime)\n",
    "        erp = erp_per_year(crime,year)\n",
    "        crime_per_100000 = round(((total_crime/erp)* 100000), 1)\n",
    "        print (\"scaled number pf effences for the year\", year, \"is: \", crime_per_100000)\n",
    "        scaled_crime.append(crime_per_100000)\n",
    "        \n",
    "        A.append(crime_by_division(crime,year,'A Crimes against the person', erp))\n",
    "        B.append(crime_by_division(crime,year,'B Property and deception offences', erp))\n",
    "        C.append(crime_by_division(crime,year,'C Drug offences', erp))\n",
    "        D.append(crime_by_division(crime,year,'D Public order and security offences', erp))\n",
    "        E.append(crime_by_division(crime,year,'E Justice procedures offences', erp)) \n",
    "        F.append(crime_by_division(crime,year,'F Other offences', erp))\n",
    "       \n",
    "    data.append(A)\n",
    "    data.append(B)\n",
    "    data.append(C)\n",
    "    data.append(D)\n",
    "    data.append(E)\n",
    "    data.append(F)\n",
    "    \n",
    "    index = np.arange(len(years)) + 0.3\n",
    "    width = 0.4\n",
    "\n",
    "    colors = [(.31, 0, .027), (.506, 0, .047), (.706, 0, .067), (1, .106, .188), (1, .514, .553),(1, .816, .827)]\n",
    "    n_rows = len(data)\n",
    "    y_offset = np.array([0.0] * len(years))\n",
    "    legends = ['A Crimes against the person', 'B Property and deception offences',\\\n",
    "                'C Drug offences','D Public order and security offences',\\\n",
    "                'E Justice procedures offences', 'F Other offences']\n",
    "    \n",
    "    cell_text = []\n",
    "    for row in range(6):\n",
    "        plt.bar(index, data[row], width, bottom = y_offset, color=colors[row], edgecolor=colors[row], label= legends[row])\n",
    "        plt.legend(p[0], legends[row])\n",
    "        y_offset = y_offset + data[row]\n",
    "    \n",
    "    \n",
    "\n",
    "    plt.xticks(index,years)\n",
    "    plt.grid(True)\n",
    "  \n",
    "    \n",
    "    for i, v in enumerate(scaled_crime):    \n",
    "        total = v\n",
    "        plt.text(i+0.3 , total , str(total), color= (.212, 0, .016), fontsize = 10, fontweight='bold')\n",
    "    \n",
    "    plt.show()\n",
    "    return 2\n",
    "\n",
    "def main(): \n",
    "    crime = pd.read_csv(\"crimebylocationdatatable.csv\")  \n",
    "    \n",
    "    barchart_crime_per_year(crime)\n",
    "\n",
    "if __name__ == \"__main__\":\n",
    "    main()\n"
   ]
  },
  {
   "cell_type": "raw",
   "metadata": {},
   "source": []
  }
 ],
 "metadata": {
  "kernelspec": {
   "display_name": "Python 3",
   "language": "python",
   "name": "python3"
  },
  "language_info": {
   "codemirror_mode": {
    "name": "ipython",
    "version": 3
   },
   "file_extension": ".py",
   "mimetype": "text/x-python",
   "name": "python",
   "nbconvert_exporter": "python",
   "pygments_lexer": "ipython3",
   "version": "3.5.1"
  }
 },
 "nbformat": 4,
 "nbformat_minor": 0
}
