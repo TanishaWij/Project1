{
 "cells": [
  {
   "cell_type": "code",
   "execution_count": null,
   "metadata": {
    "collapsed": false
   },
   "outputs": [],
   "source": [
    "import pandas as pd\n",
    "import numpy as np\n",
    "import matplotlib.pyplot as plt\n",
    "\n",
    "def num_govermentschools(edu,lga):\n",
    "    ''' \n",
    "    Returns the sum of the Government schools in the specified LGA \n",
    "    using boolean indexing\n",
    "    '''\n",
    "    num = (edu.loc[(edu[\"Education_Sector\"] == 'Government') & \\\n",
    "            (edu[\"Local_Government_Area\"] == lga), \\\n",
    "            [\"Education_Sector\"]]).Education_Sector.value_counts()\n",
    "    return (num[0])\n",
    "\n",
    "def num_schools_by_lga(edu):\n",
    "    ''' \n",
    "    Calculates the unique LGAs and for each, finds the corresponding\n",
    "    sum of the number of schools divided into two categories (government\n",
    "    and other). Appends findings to three different lists.\n",
    "    '''\n",
    "    lga =[]\n",
    "    other = []\n",
    "    government = []   \n",
    "    all_lgas = edu.Local_Government_Area.value_counts()  \n",
    "    for key,value in all_lgas.iteritems():\n",
    "        lga.append(key)\n",
    "        #call function and append each returning value to a list\n",
    "        num_gvt = num_govermentschools(edu,key)\n",
    "        government.append(num_gvt)\n",
    "        #simple subtraction to find schools that are not 'government'\n",
    "        other_schools = value - num_gvt\n",
    "        other.append(other_schools)\n",
    "        \n",
    "    stacked_barchart_total_edu(lga, other, government)\n",
    "        \n",
    "def stacked_barchart_total_edu(lga, other, government):\n",
    "    '''\n",
    "    Uses matplotlib to draw a graph showing the distribution of schools\n",
    "    in each local government area\n",
    "    '''\n",
    "    ind = range(len(other))\n",
    "    width = 1/1.5\n",
    "    # bottom section of bar represents catholic and private schools (p1) \n",
    "    # p2 is plotted on top to represent gvt schools.\n",
    "    p1 = plt.bar(ind, other, width,color=(.459, 0, .502), \\\n",
    "                 edgecolor =(.459, 0, .502))\n",
    "    p2 = plt.bar(ind, government, width, color=(0,.502,.459),\\\n",
    "                 edgecolor = (0,.502,.459), bottom=other)\n",
    "    #editing to make bar chart clearer\n",
    "    plt.gcf().subplots_adjust(bottom=0.2)\n",
    "    plt.xticks(ind, lga, rotation='vertical')\n",
    "    plt.grid(True)\n",
    "    \n",
    "    plt.legend((p1[0], p2[0]), ('Number of Catholic/Independent Schools', \\\n",
    "                                'Number of Government Schools'))\n",
    "    \n",
    "    #writes the sum of the number of schools for each lga on top of each bar.\n",
    "    for i, v in enumerate(government):    \n",
    "        total = v + other[i]\n",
    "        plt.text(i , total+0.5, str(total), color= (0, .294, .502), fontsize = 8, fontweight='bold')\n",
    "    plt.show()\n",
    "\n",
    "def main(): \n",
    "    education = pd.read_csv(\"all_school.csv\")\n",
    "    num_schools_by_lga(education)\n",
    "\n",
    "if __name__ == \"__main__\":\n",
    "    main()\n",
    "    "
   ]
  },
  {
   "cell_type": "code",
   "execution_count": null,
   "metadata": {
    "collapsed": true
   },
   "outputs": [],
   "source": []
  }
 ],
 "metadata": {
  "kernelspec": {
   "display_name": "Python 3",
   "language": "python",
   "name": "python3"
  },
  "language_info": {
   "codemirror_mode": {
    "name": "ipython",
    "version": 3
   },
   "file_extension": ".py",
   "mimetype": "text/x-python",
   "name": "python",
   "nbconvert_exporter": "python",
   "pygments_lexer": "ipython3",
   "version": "3.5.1"
  }
 },
 "nbformat": 4,
 "nbformat_minor": 0
}
