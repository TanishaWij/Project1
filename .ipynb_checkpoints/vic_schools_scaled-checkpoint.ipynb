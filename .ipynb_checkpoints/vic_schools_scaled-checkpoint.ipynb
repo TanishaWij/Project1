{
 "cells": [
  {
   "cell_type": "code",
   "execution_count": null,
   "metadata": {
    "collapsed": false
   },
   "outputs": [],
   "source": [
    "import pandas as pd\n",
    "import numpy as np\n",
    "import matplotlib.pyplot as plt\n",
    "\n",
    "def erp_per_lga(crime, lga):\n",
    "    '''\n",
    "    returns the estimated resident population for the local government area \n",
    "    for the year 2015\n",
    "    '''\n",
    "    erps = []\n",
    "    erp_column = (crime.loc[(crime[\"reference_period\"] == 2015)& \\\n",
    "                            (crime[\"Local_Government_Area\"] == lga)\n",
    "                            , [\"LGA_ERP\"]])\n",
    "    erps = erp_column.values \n",
    "    return erps[0][0]\n",
    "\n",
    "def num_schools_by_lga(edu, crime):\n",
    "    ''' \n",
    "    Calculates the unique LGAs and for each, finds the corresponding\n",
    "    sum of the number of schools and scales it by the ERP for the \n",
    "    LGA.\n",
    "    '''\n",
    "    lga =[]\n",
    "    num_schools = []\n",
    "    \n",
    "    all_lgas = edu.Local_Government_Area.value_counts()  \n",
    "    for key,value in all_lgas.iteritems():\n",
    "        lga.append(key)\n",
    "        erp = erp_per_lga(crime, key)\n",
    "        #print(key)\n",
    "        value = int(round((value/erp)*10000))\n",
    "        num_schools.append(value)   \n",
    "        #print(\"total: \", value)    \n",
    "    stacked_barchart_total_edu(lga, num_schools)\n",
    "    \n",
    "def stacked_barchart_total_edu(lga, num_schools):\n",
    "    '''\n",
    "    Uses matplotlib to draw a graph showing the distribution of schools\n",
    "    in each local government area\n",
    "    '''\n",
    "    ind = range(len(num_schools))\n",
    "    width = 1/1.5\n",
    "  \n",
    "    plt.bar(ind, num_schools, width,color=(.459, 0, .502), \\\n",
    "                 edgecolor =(.459, 0, .502))\n",
    "    #editing to make bar chart clearer\n",
    "    plt.xticks(ind, lga, rotation='vertical')\n",
    "    plt.grid(True)\n",
    "    plt.gcf().subplots_adjust(bottom=0.3)\n",
    "\n",
    "    #writes the sum of the number of schools for each lga on top of each bar.\n",
    "    for i, v in enumerate(num_schools):    \n",
    "        total = v\n",
    "        plt.text(i , total+0.1, str(total), color= (0, .294, .502), \\\n",
    "                 fontsize = 8, fontweight='bold')\n",
    "    plt.show()\n",
    "\n",
    "def main(): \n",
    "    education = pd.read_csv(\"all_school.csv\")\n",
    "    crime = pd.read_csv(\"crimebylocationdatatable.csv\")  \n",
    "    num_schools_by_lga(education, crime)\n",
    "\n",
    "if __name__ == \"__main__\":\n",
    "    main()"
   ]
  },
  {
   "cell_type": "code",
   "execution_count": null,
   "metadata": {
    "collapsed": true
   },
   "outputs": [],
   "source": []
  }
 ],
 "metadata": {
  "kernelspec": {
   "display_name": "Python 3",
   "language": "python",
   "name": "python3"
  },
  "language_info": {
   "codemirror_mode": {
    "name": "ipython",
    "version": 3
   },
   "file_extension": ".py",
   "mimetype": "text/x-python",
   "name": "python",
   "nbconvert_exporter": "python",
   "pygments_lexer": "ipython3",
   "version": "3.5.1"
  }
 },
 "nbformat": 4,
 "nbformat_minor": 0
}
