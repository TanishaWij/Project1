{
 "cells": [
  {
   "cell_type": "code",
   "execution_count": 2,
   "metadata": {
    "collapsed": false,
    "scrolled": true
   },
   "outputs": [],
   "source": [
    "# -*- coding: utf-8 -*-\n",
    "\"\"\"\n",
    "Created on Wed Apr 20 10:55:15 2016\n",
    "@author: Tanisha\n",
    "\"\"\"\n",
    "import csv\n",
    "\n",
    "def read_csv_file(file_name):\n",
    "    '''\n",
    "    Reads the content of a provided CSV file. Opens the file and\n",
    "    uses the .reader() method from the csv package on the data.\n",
    "    '''\n",
    "    input_f = open(file_name, 'r' , newline='')\n",
    "    parsed_f = csv.reader(input_f, delimiter=',')\n",
    "    return (parsed_f)\n",
    "    \n",
    "def rewrite_csv(file_name, data):\n",
    "    '''\n",
    "    rewrites the opened file with the appended data\n",
    "    '''\n",
    "    rewrite = open(file_name, 'w', newline='')\n",
    "    writer = csv.writer(rewrite,delimiter=',') \n",
    "    writer.writerows(data)  \n",
    "        \n",
    "def store_data(data):\n",
    "    '''\n",
    "    Reads the values in the file row wise while appending them to a list\n",
    "    of lists.  \n",
    "    '''\n",
    "    data_by_row = [row for row in data]\n",
    "    return (data_by_row)\n",
    "\n",
    "def area_clean(area):\n",
    "    '''\n",
    "    Removes unnecasary brackets and characters\n",
    "    '''\n",
    "    cleaned = (area.split(' (', 1)[0]).lower()\n",
    "    return cleaned \n",
    "\n",
    "def area_lowercase(area):\n",
    "    '''\n",
    "    converts to lowercase\n",
    "    '''\n",
    "    lower = area.lower()\n",
    "    return lower\n",
    "\n",
    "def main():\n",
    "    crime_data_lsts =[]\n",
    "    edu_data_lsts = []\n",
    "    \n",
    "    #read files\n",
    "    edu_data= read_csv_file(\"all_school.csv\")\n",
    "    crime_data= read_csv_file(\"crimebylocationdatatable.csv\")\n",
    "    #store the data \n",
    "    edu_data_lsts= store_data(edu_data) \n",
    "    crime_data_lsts = store_data(crime_data) \n",
    "    #clean Local Government Area data values \n",
    "    for row in edu_data_lsts[1:]:\n",
    "        row[-1] = area_clean(row[-1])\n",
    "    #lowercase government area values \n",
    "    for row in crime_data_lsts[1:]:\n",
    "        row[1] = area_lowercase(row[1])\n",
    "    #rewrite the files with the new data\n",
    "    rewrite_csv(\"all_school.csv\", edu_data_lsts)\n",
    "    rewrite_csv(\"crimebylocationdatatable.csv\", crime_data_lsts)\n",
    "           \n",
    "if __name__ == \"__main__\":\n",
    "    main()"
   ]
  },
  {
   "cell_type": "code",
   "execution_count": null,
   "metadata": {
    "collapsed": true
   },
   "outputs": [],
   "source": []
  }
 ],
 "metadata": {
  "kernelspec": {
   "display_name": "Python 3",
   "language": "python",
   "name": "python3"
  },
  "language_info": {
   "codemirror_mode": {
    "name": "ipython",
    "version": 3
   },
   "file_extension": ".py",
   "mimetype": "text/x-python",
   "name": "python",
   "nbconvert_exporter": "python",
   "pygments_lexer": "ipython3",
   "version": "3.5.1"
  }
 },
 "nbformat": 4,
 "nbformat_minor": 0
}
