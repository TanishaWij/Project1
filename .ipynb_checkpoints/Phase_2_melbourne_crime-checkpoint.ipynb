{
 "cells": [
  {
   "cell_type": "code",
   "execution_count": 5,
   "metadata": {
    "collapsed": false
   },
   "outputs": [
    {
     "name": "stdout",
     "output_type": "stream",
     "text": [
      "the estimated erp for 2012:  105418\n",
      "the estimated erp for 2013:  116447\n",
      "Total crime rate for  2012  Division: A Crimes against the person is:  Offence_Count    3644\n",
      "dtype: int64\n",
      "Total crime rate for  2012  Division: B Property and deception offences is:  Offence_Count    21043\n",
      "dtype: int64\n",
      "Total crime rate for  2012  Division: C Drug offences is:  Offence_Count    1720\n",
      "dtype: int64\n",
      "Total crime rate for  2012  Division: D Public order and security offences is:  Offence_Count    6187\n",
      "dtype: int64\n",
      "Total crime rate for  2012  Division: E Justice procedures offences is:  Offence_Count    2351\n",
      "dtype: int64\n",
      "Total crime rate for  2012  Division: F Other offences is:  Offence_Count    154\n",
      "dtype: int64\n",
      "Total crime rate for  2013  Division: A Crimes against the person is:  Offence_Count    3643\n",
      "dtype: int64\n",
      "Total crime rate for  2013  Division: B Property and deception offences is:  Offence_Count    18408\n",
      "dtype: int64\n",
      "Total crime rate for  2013  Division: C Drug offences is:  Offence_Count    2193\n",
      "dtype: int64\n",
      "Total crime rate for  2013  Division: D Public order and security offences is:  Offence_Count    5546\n",
      "dtype: int64\n",
      "Total crime rate for  2013  Division: E Justice procedures offences is:  Offence_Count    2620\n",
      "dtype: int64\n",
      "Total crime rate for  2013  Division: F Other offences is:  Offence_Count    197\n",
      "dtype: int64\n"
     ]
    }
   ],
   "source": [
    "import pandas as pd\n",
    "import numpy as np\n",
    "import matplotlib.pyplot as plt\n",
    "\n",
    "def erp_per_year(crime, year):\n",
    "    erps = []\n",
    "    erp_column = (crime.loc[(crime[\"reference_period\"] == year)& (crime[\"Local_Government_Area\"] == 'melbourne'), [\"LGA_ERP\"]])\n",
    "    erps = erp_column.values \n",
    "    return erps[0][0]\n",
    "\n",
    "def crime_by_division(crime, year, division, erp):\n",
    "    sum_crime = (crime.loc[(crime[\"reference_period\"] == year) &(crime[\"Local_Government_Area\"] == 'melbourne')&\\\n",
    "                (crime[\"CSA_Offence_Division\"]==division), [\"Offence_Count\"]])\n",
    "    summ = sum_crime.sum()\n",
    "    print(\"Total crime rate for \", year, ' Division:', division, 'is: ', summ)\n",
    "    per_10000 = round((summ[-1])/erp*10000)\n",
    "    return (per_10000)\n",
    "    \n",
    "\n",
    "\n",
    "def grouped_bar_chart(crime):\n",
    "    data1 = []\n",
    "    data2 = []\n",
    "    \n",
    "    crime_types = ['A Crimes against the person', 'B Property and deception offences', 'C Drug offences',\\\n",
    "                 'D Public order and security offences', 'E Justice procedures offences', 'F Other offences']\n",
    "    num_group = len(crime_types)\n",
    "    \n",
    "    erp1 = erp_per_year(crime, 2012)\n",
    "    print(\"the estimated erp for 2012: \", erp1)\n",
    "    erp2 = erp_per_year(crime, 2013)\n",
    "    print(\"the estimated erp for 2013: \", erp2)\n",
    "\n",
    "    \n",
    "    for crime_type in crime_types:\n",
    "        data1.append(crime_by_division(crime, 2012 ,crime_type, erp1))\n",
    "     \n",
    "    for crime_type in crime_types:\n",
    "        data2.append(crime_by_division(crime, 2013 ,crime_type, erp2))\n",
    "    \n",
    "    fig, ax = plt.subplots()\n",
    "    index = np.arange(num_group)\n",
    "    width = 0.3\n",
    "    \n",
    "    plt1 = plt.bar(index, data1, width, color=(.506, 0, .047),edgecolor =(.506, 0, .047), label='2012')\n",
    "    plt2 = plt.bar(index+width+0.04 , data2, width, color=(1, .514, .553), edgecolor =(1, .514, .553), label='2013')\n",
    "    plt.xticks(index + width+0.04, (['A', 'B', 'C', 'D', 'E', 'F']))\n",
    "    plt.legend()\n",
    "    plt.grid(True, )\n",
    " \n",
    "    for i, v in enumerate(data1):    \n",
    "        v2 = data2[i]\n",
    "        plt.text(i, (v+20), str(v), color= (.31, 0, .027), fontsize = 11, fontweight='bold')\n",
    "        plt.text(i+width+0.04, (v2+20), str(v2), color= (.31, 0, .027), fontsize = 11, fontweight='bold')\n",
    "        \n",
    "    #plt.show()\n",
    "    return 2\n",
    "    \n",
    "\n",
    "    \n",
    "\n",
    "def main(): \n",
    "    crime = pd.read_csv(\"crimebylocationdatatable.csv\")  \n",
    "    \n",
    "    grouped_bar_chart(crime)\n",
    "\n",
    "if __name__ == \"__main__\":\n",
    "    main()\n"
   ]
  },
  {
   "cell_type": "code",
   "execution_count": null,
   "metadata": {
    "collapsed": true
   },
   "outputs": [],
   "source": []
  },
  {
   "cell_type": "code",
   "execution_count": null,
   "metadata": {
    "collapsed": true
   },
   "outputs": [],
   "source": []
  }
 ],
 "metadata": {
  "kernelspec": {
   "display_name": "Python 3",
   "language": "python",
   "name": "python3"
  },
  "language_info": {
   "codemirror_mode": {
    "name": "ipython",
    "version": 3
   },
   "file_extension": ".py",
   "mimetype": "text/x-python",
   "name": "python",
   "nbconvert_exporter": "python",
   "pygments_lexer": "ipython3",
   "version": "3.5.1"
  }
 },
 "nbformat": 4,
 "nbformat_minor": 0
}
