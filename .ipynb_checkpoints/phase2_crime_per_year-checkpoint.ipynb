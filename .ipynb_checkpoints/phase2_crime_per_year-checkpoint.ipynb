{
 "cells": [
  {
   "cell_type": "code",
   "execution_count": null,
   "metadata": {
    "collapsed": false
   },
   "outputs": [],
   "source": [
    "import pandas as pd\n",
    "import numpy as np\n",
    "import matplotlib.pyplot as plt\n",
    "\n",
    "def erp_per_year(crime, year):\n",
    "    erps = []\n",
    "    erp_column = (crime.loc[(crime[\"reference_period\"] == year), [\"Victorian_ERP\"]])\n",
    "    erps = erp_column.values \n",
    "    return erps[0][0]\n",
    "        \n",
    "def crime_per_year(crime, year):\n",
    "    sum_crime = (crime.loc[(crime[\"reference_period\"] == year), [\"Offence_Count\"]])\n",
    "    summ = sum_crime.sum()\n",
    "    return (summ[-1])\n",
    "\n",
    "def crime_by_division(crime, year, division, erp):\n",
    "    sum_crime = (crime.loc[(crime[\"reference_period\"] == year) &\\\n",
    "                (crime[\"CSA_Offence_Division\"]==division), [\"Offence_Count\"]])\n",
    "    summ = sum_crime.sum()\n",
    "    per_100000 = round((summ[-1])/erp*100000)\n",
    "    return (per_100000)\n",
    "\n",
    "def barchart_crime_per_year(crime):\n",
    "    years = [2011, 2012, 2013, 2014,2015]\n",
    "    crime_count = []\n",
    "    scaled_crime = []\n",
    "    A, B, C, D, E, F = [], [], [], [], [], []\n",
    "    data =[]\n",
    "    \n",
    "    for year in years:\n",
    "        total_crime = crime_per_year(crime, year)\n",
    "        print (\"Total number of effences for the year\", year, \"is: \", total_crime)\n",
    "        crime_count.append(total_crime)\n",
    "        erp = erp_per_year(crime,year)\n",
    "        crime_per_100000 = round(((total_crime/erp)* 100000), 1)\n",
    "        print (\"Offence rate per 100,000 =\", crime_per_100000)\n",
    "        scaled_crime.append(crime_per_100000)\n",
    "        \n",
    "        A.append(crime_by_division(crime,year,'A Crimes against the person', erp))\n",
    "        B.append(crime_by_division(crime,year,'B Property and deception offences', erp))\n",
    "        C.append(crime_by_division(crime,year,'C Drug offences', erp))\n",
    "        D.append(crime_by_division(crime,year,'D Public order and security offences', erp))\n",
    "        E.append(crime_by_division(crime,year,'E Justice procedures offences', erp)) \n",
    "        F.append(crime_by_division(crime,year,'F Other offences', erp))\n",
    "       \n",
    "    data.append(A)\n",
    "    data.append(B)\n",
    "    data.append(C)\n",
    "    data.append(D)\n",
    "    data.append(E)\n",
    "    data.append(F)\n",
    "    \n",
    "    index = np.arange(len(years)) + 0.3\n",
    "    width = 0.4\n",
    "\n",
    "    colors = [(.204, 0, .02), (.506, 0, .047), (.604, 0, .51), (.906, 0, .75), (1, .208, .271),(1, .51, .545)]\n",
    "    n_rows = len(data)\n",
    "    y_offset = np.array([0.0] * len(years))\n",
    "    legends = ['A Crimes against the person', 'B Property and deception offences',\\\n",
    "                'C Drug offences','D Public order and security offences',\\\n",
    "                'E Justice procedures offences', 'F Other offences']\n",
    "    \n",
    "    cell_text = []\n",
    "    for row in range(6):\n",
    "        plt.bar(index, data[row], width, bottom = y_offset, color=colors[row], edgecolor=colors[row], label= legends[row])\n",
    "        #plt.legend(p[0], legends[row])\n",
    "        y_offset = y_offset + data[row]\n",
    "    \n",
    "    \n",
    "\n",
    "    plt.xticks(index,years)\n",
    "    plt.ylabel('Total crime per year', fontweight='bold')\n",
    "    plt.xlabel('Year', fontweight='bold')\n",
    "    plt.title('CHANGE IN CRIME RATE FOR THE PERIOD 2011-2015',fontweight='bold')\n",
    "    plt.legend()\n",
    "    \n",
    "    \n",
    "    plt.show()\n",
    "\n",
    "    return 2\n",
    "def main(): \n",
    "    crime = pd.read_csv(\"crimebylocationdatatable.csv\")  \n",
    "    \n",
    "    barchart_crime_per_year(crime)\n",
    "\n",
    "if __name__ == \"__main__\":\n",
    "    main()\n"
   ]
  },
  {
   "cell_type": "code",
   "execution_count": null,
   "metadata": {
    "collapsed": true
   },
   "outputs": [],
   "source": []
  },
  {
   "cell_type": "code",
   "execution_count": null,
   "metadata": {
    "collapsed": false
   },
   "outputs": [],
   "source": []
  },
  {
   "cell_type": "code",
   "execution_count": null,
   "metadata": {
    "collapsed": true
   },
   "outputs": [],
   "source": []
  },
  {
   "cell_type": "code",
   "execution_count": null,
   "metadata": {
    "collapsed": false
   },
   "outputs": [],
   "source": []
  },
  {
   "cell_type": "code",
   "execution_count": null,
   "metadata": {
    "collapsed": false
   },
   "outputs": [],
   "source": []
  },
  {
   "cell_type": "code",
   "execution_count": null,
   "metadata": {
    "collapsed": false
   },
   "outputs": [],
   "source": [
    "\n",
    "\n"
   ]
  },
  {
   "cell_type": "code",
   "execution_count": null,
   "metadata": {
    "collapsed": true
   },
   "outputs": [],
   "source": []
  },
  {
   "cell_type": "code",
   "execution_count": null,
   "metadata": {
    "collapsed": true
   },
   "outputs": [],
   "source": []
  },
  {
   "cell_type": "code",
   "execution_count": null,
   "metadata": {
    "collapsed": true
   },
   "outputs": [],
   "source": []
  }
 ],
 "metadata": {
  "kernelspec": {
   "display_name": "Python 3",
   "language": "python",
   "name": "python3"
  },
  "language_info": {
   "codemirror_mode": {
    "name": "ipython",
    "version": 3
   },
   "file_extension": ".py",
   "mimetype": "text/x-python",
   "name": "python",
   "nbconvert_exporter": "python",
   "pygments_lexer": "ipython3",
   "version": "3.5.1"
  }
 },
 "nbformat": 4,
 "nbformat_minor": 0
}
