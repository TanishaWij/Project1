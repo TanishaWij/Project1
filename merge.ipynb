{
 "cells": [
  {
   "cell_type": "code",
   "execution_count": 2,
   "metadata": {
    "collapsed": false
   },
   "outputs": [
    {
     "name": "stdout",
     "output_type": "stream",
     "text": [
      "Populating the interactive namespace from numpy and matplotlib\n"
     ]
    },
    {
     "data": {
      "image/png": "[encoded data removed]",
      "text/plain": [
       "<matplotlib.figure.Figure at 0x109b30c18>"
      ]
     },
     "metadata": {},
     "output_type": "display_data"
    },
    {
     "name": "stdout",
     "output_type": "stream",
     "text": [
      "          0         0\n",
      "0  1.000000 -0.326856\n",
      "0 -0.326856  1.000000\n"
     ]
    }
   ],
   "source": [
    "import pandas as pd\n",
    "import numpy as np\n",
    "import matplotlib.pyplot as plt\n",
    "import csv\n",
    "%pylab inline\n",
    "\n",
    "def erp_per_lga(crime, lga):\n",
    "    '''\n",
    "    returns the estimated resident population for the local government area \n",
    "    for the year 2015\n",
    "    '''\n",
    "    erps = []\n",
    "    erp_column = (crime.loc[(crime[\"reference_period\"] == 2015)& \\\n",
    "                    (crime[\"Local_Government_Area\"] == lga), [\"LGA_ERP\"]])\n",
    "    erps = erp_column.values \n",
    "    return erps[0][0]\n",
    "\n",
    "def num_govermentschools(edu,lga):\n",
    "    ''' \n",
    "    Returns the sum of the Government schools in the specified LGA \n",
    "    using boolean indexing\n",
    "    '''\n",
    "    num = (edu.loc[(edu[\"Education_Sector\"] == 'Government') & \\\n",
    "            (edu[\"Local_Government_Area\"] == lga), \\\n",
    "            [\"Education_Sector\"]]).Education_Sector.value_counts()\n",
    "    return (num[0])\n",
    "\n",
    "def crime_by_LGA(crime, lga):\n",
    "    '''\n",
    "    returns the offence count per lga for the year 2015\n",
    "    '''\n",
    "    sum_crime = (crime.loc[(crime[\"reference_period\"] == 2015) & \\\n",
    "                (crime[\"Local_Government_Area\"] == lga) , [\"Offence_Count\"]])\n",
    "    summ = sum_crime.sum()\n",
    "    return (summ[-1])\n",
    "\n",
    "def unique_lga(data):\n",
    "    ''' \n",
    "    Returns a list with the unique LGAs in sorted order \n",
    "    '''\n",
    "    lga =[]  \n",
    "    all_lgas = data.Local_Government_Area.value_counts()  \n",
    "    for key,value in all_lgas.iteritems():\n",
    "        lga.append(key)\n",
    "    lga.sort()\n",
    "    return (lga)\n",
    "    \n",
    "def coordinates(crime, edu):\n",
    "    ''' \n",
    "    Returns lists of coordinate points\n",
    "    '''\n",
    "    lgas, sum_crimes, sum_gvt_schools, erps = [], [], [],[],\n",
    "    #list of the unique local government areas\n",
    "    lgas = unique_lga(crime)\n",
    "    for lga in lgas:\n",
    "        erp = erp_per_lga(crime, lga)\n",
    "        erps.append(erp)\n",
    "        #crime for each lga\n",
    "        lga_crime = crime_by_LGA(crime, lga)\n",
    "        lga_crime = (lga_crime/erp)*100000\n",
    "        sum_crimes.append(lga_crime)\n",
    "        #government school numbers by lga \n",
    "        lga_gvt_schools = num_govermentschools(edu, lga)\n",
    "        lga_gvt_schools = (lga_gvt_schools/erp)*100000\n",
    "        sum_gvt_schools.append(lga_gvt_schools)\n",
    "\n",
    "    return(sum_crimes, sum_gvt_schools, lgas)\n",
    "    \n",
    "def scatter_plot(offences,num_schools, lgas):\n",
    "    ''' \n",
    "    scatter plot depending what lists are passed to it as x or y cordinates\n",
    "    '''\n",
    "    plt.plot(offences, num_schools, 'bo', color= (.847, .333, 0))\n",
    "\n",
    "    #This commented out code was used to determine what LGA each point \n",
    "    #in the scatter plot related to\n",
    "    '''\n",
    "    for label, x, y in zip(lgas, offences, num_schools):\n",
    "        plt.annotate(\n",
    "        label, \n",
    "        xy = (x, y), xytext = (-20, 20),\n",
    "        textcoords = 'offset points', ha = 'right', va = 'bottom',\n",
    "        arrowprops = dict(arrowstyle = '->', connectionstyle = 'arc3,rad=0'))\n",
    "    '''\n",
    "    \n",
    "    #This commented out code was used to plot the line of best fit\n",
    "    \n",
    "    plt.plot(offences, np.poly1d(np.polyfit(offences, num_schools, 1))\\\n",
    "             (offences))\n",
    "\n",
    "\n",
    "    plt.xlabel(\"Offence rate\", color= (.847, .333, 0), fontsize = 25)\n",
    "    plt.ylabel(\"Number of Gvt schools\", color= (.847, .333, 0), fontsize = 25)\n",
    "    plt.grid(True)\n",
    "    plt.show()\n",
    "\n",
    "def main(): \n",
    "    offences, num_schools, num_gvt_schools, offence_cat, lgas = [], [], [], [], []\n",
    "    crime = pd.read_csv(\"crimebylocationdatatable.csv\")  \n",
    "    edu = pd.read_csv(\"all_school.csv\")\n",
    "    #creates cordinate points for the scatter plot\n",
    "    offences, num_gvt_schools, lgas = coordinates(crime, edu)\n",
    "    #plotting scatter plot\n",
    "    scatter_plot(offences, num_gvt_schools, lgas)\n",
    "    \n",
    "    \n",
    "    #creates and writes to a file, the coordinates of each data point.\n",
    "    #this is used for the k-means algorithm\n",
    "    f = open(\"merge_output.csv\", \"w\")\n",
    "    for i in range(len(offences)):\n",
    "        f.write(\"{},{}\\n\".format(offences[i], num_gvt_schools[i]))\n",
    "    f.close()\n",
    "    #calculating the Pearsons correlation coefficient\n",
    "    \n",
    "    df1 = pd.DataFrame(offences)\n",
    "    df2 = pd.DataFrame(num_gvt_schools)\n",
    "    result = pd.concat([df1, df2], axis=1)\n",
    "    pearsons = result.corr(method='pearson')\n",
    "    print(pearsons)\n",
    "    \n",
    "if __name__ == \"__main__\":\n",
    "    main()"
   ]
  },
  {
   "cell_type": "code",
   "execution_count": null,
   "metadata": {
    "collapsed": true
   },
   "outputs": [],
   "source": []
  },
  {
   "cell_type": "code",
   "execution_count": null,
   "metadata": {
    "collapsed": true
   },
   "outputs": [],
   "source": []
  }
 ],
 "metadata": {
  "kernelspec": {
   "display_name": "Python 3",
   "language": "python",
   "name": "python3"
  },
  "language_info": {
   "codemirror_mode": {
    "name": "ipython",
    "version": 3
   },
   "file_extension": ".py",
   "mimetype": "text/x-python",
   "name": "python",
   "nbconvert_exporter": "python",
   "pygments_lexer": "ipython3",
   "version": "3.5.1"
  }
 },
 "nbformat": 4,
 "nbformat_minor": 0
}
